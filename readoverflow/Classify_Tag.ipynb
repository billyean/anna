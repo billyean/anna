{
 "cells": [
  {
   "cell_type": "code",
   "execution_count": 1,
   "metadata": {},
   "outputs": [],
   "source": [
    "import pandas as pd\n",
    "questions = pd.read_csv('kraggle/Questions.csv', encoding='latin-1')\n",
    "tags = pd.read_csv('kraggle/Tags.csv', encoding='latin-1')"
   ]
  },
  {
   "cell_type": "code",
   "execution_count": 2,
   "metadata": {},
   "outputs": [],
   "source": [
    "total = questions.join(tags.set_index('Id'), on='Id')"
   ]
  },
  {
   "cell_type": "code",
   "execution_count": 3,
   "metadata": {},
   "outputs": [
    {
     "data": {
      "text/html": [
       "<div>\n",
       "<style scoped>\n",
       "    .dataframe tbody tr th:only-of-type {\n",
       "        vertical-align: middle;\n",
       "    }\n",
       "\n",
       "    .dataframe tbody tr th {\n",
       "        vertical-align: top;\n",
       "    }\n",
       "\n",
       "    .dataframe thead th {\n",
       "        text-align: right;\n",
       "    }\n",
       "</style>\n",
       "<table border=\"1\" class=\"dataframe\">\n",
       "  <thead>\n",
       "    <tr style=\"text-align: right;\">\n",
       "      <th></th>\n",
       "      <th>Id</th>\n",
       "      <th>OwnerUserId</th>\n",
       "      <th>CreationDate</th>\n",
       "      <th>ClosedDate</th>\n",
       "      <th>Score</th>\n",
       "      <th>Title</th>\n",
       "      <th>Body</th>\n",
       "      <th>Tag</th>\n",
       "    </tr>\n",
       "  </thead>\n",
       "  <tbody>\n",
       "    <tr>\n",
       "      <th>0</th>\n",
       "      <td>80</td>\n",
       "      <td>26.0</td>\n",
       "      <td>2008-08-01T13:57:07Z</td>\n",
       "      <td>NaN</td>\n",
       "      <td>26</td>\n",
       "      <td>SQLStatement.execute() - multiple queries in o...</td>\n",
       "      <td>&lt;p&gt;I've written a database generation script i...</td>\n",
       "      <td>flex</td>\n",
       "    </tr>\n",
       "    <tr>\n",
       "      <th>0</th>\n",
       "      <td>80</td>\n",
       "      <td>26.0</td>\n",
       "      <td>2008-08-01T13:57:07Z</td>\n",
       "      <td>NaN</td>\n",
       "      <td>26</td>\n",
       "      <td>SQLStatement.execute() - multiple queries in o...</td>\n",
       "      <td>&lt;p&gt;I've written a database generation script i...</td>\n",
       "      <td>actionscript-3</td>\n",
       "    </tr>\n",
       "    <tr>\n",
       "      <th>0</th>\n",
       "      <td>80</td>\n",
       "      <td>26.0</td>\n",
       "      <td>2008-08-01T13:57:07Z</td>\n",
       "      <td>NaN</td>\n",
       "      <td>26</td>\n",
       "      <td>SQLStatement.execute() - multiple queries in o...</td>\n",
       "      <td>&lt;p&gt;I've written a database generation script i...</td>\n",
       "      <td>air</td>\n",
       "    </tr>\n",
       "    <tr>\n",
       "      <th>1</th>\n",
       "      <td>90</td>\n",
       "      <td>58.0</td>\n",
       "      <td>2008-08-01T14:41:24Z</td>\n",
       "      <td>2012-12-26T03:45:49Z</td>\n",
       "      <td>144</td>\n",
       "      <td>Good branching and merging tutorials for Torto...</td>\n",
       "      <td>&lt;p&gt;Are there any really good tutorials explain...</td>\n",
       "      <td>svn</td>\n",
       "    </tr>\n",
       "    <tr>\n",
       "      <th>1</th>\n",
       "      <td>90</td>\n",
       "      <td>58.0</td>\n",
       "      <td>2008-08-01T14:41:24Z</td>\n",
       "      <td>2012-12-26T03:45:49Z</td>\n",
       "      <td>144</td>\n",
       "      <td>Good branching and merging tutorials for Torto...</td>\n",
       "      <td>&lt;p&gt;Are there any really good tutorials explain...</td>\n",
       "      <td>tortoisesvn</td>\n",
       "    </tr>\n",
       "  </tbody>\n",
       "</table>\n",
       "</div>"
      ],
      "text/plain": [
       "   Id  OwnerUserId          CreationDate            ClosedDate  Score  \\\n",
       "0  80         26.0  2008-08-01T13:57:07Z                   NaN     26   \n",
       "0  80         26.0  2008-08-01T13:57:07Z                   NaN     26   \n",
       "0  80         26.0  2008-08-01T13:57:07Z                   NaN     26   \n",
       "1  90         58.0  2008-08-01T14:41:24Z  2012-12-26T03:45:49Z    144   \n",
       "1  90         58.0  2008-08-01T14:41:24Z  2012-12-26T03:45:49Z    144   \n",
       "\n",
       "                                               Title  \\\n",
       "0  SQLStatement.execute() - multiple queries in o...   \n",
       "0  SQLStatement.execute() - multiple queries in o...   \n",
       "0  SQLStatement.execute() - multiple queries in o...   \n",
       "1  Good branching and merging tutorials for Torto...   \n",
       "1  Good branching and merging tutorials for Torto...   \n",
       "\n",
       "                                                Body             Tag  \n",
       "0  <p>I've written a database generation script i...            flex  \n",
       "0  <p>I've written a database generation script i...  actionscript-3  \n",
       "0  <p>I've written a database generation script i...             air  \n",
       "1  <p>Are there any really good tutorials explain...             svn  \n",
       "1  <p>Are there any really good tutorials explain...     tortoisesvn  "
      ]
     },
     "execution_count": 3,
     "metadata": {},
     "output_type": "execute_result"
    }
   ],
   "source": [
    "total.head()"
   ]
  },
  {
   "cell_type": "code",
   "execution_count": 4,
   "metadata": {},
   "outputs": [
    {
     "data": {
      "text/plain": [
       "(3750994, 8)"
      ]
     },
     "execution_count": 4,
     "metadata": {},
     "output_type": "execute_result"
    }
   ],
   "source": [
    "total.shape"
   ]
  },
  {
   "cell_type": "code",
   "execution_count": 5,
   "metadata": {},
   "outputs": [
    {
     "data": {
      "text/plain": [
       "0          <p>I've written a database generation script i...\n",
       "0          <p>I've written a database generation script i...\n",
       "0          <p>I've written a database generation script i...\n",
       "1          <p>Are there any really good tutorials explain...\n",
       "1          <p>Are there any really good tutorials explain...\n",
       "1          <p>Are there any really good tutorials explain...\n",
       "1          <p>Are there any really good tutorials explain...\n",
       "2          <p>Has anyone got experience creating <strong>...\n",
       "2          <p>Has anyone got experience creating <strong>...\n",
       "2          <p>Has anyone got experience creating <strong>...\n",
       "3          <p>This is something I've pseudo-solved many t...\n",
       "3          <p>This is something I've pseudo-solved many t...\n",
       "3          <p>This is something I've pseudo-solved many t...\n",
       "3          <p>This is something I've pseudo-solved many t...\n",
       "4          <p>I have a little game written in C#. It uses...\n",
       "4          <p>I have a little game written in C#. It uses...\n",
       "4          <p>I have a little game written in C#. It uses...\n",
       "4          <p>I have a little game written in C#. It uses...\n",
       "5          <p>I am working on a collection of classes use...\n",
       "5          <p>I am working on a collection of classes use...\n",
       "5          <p>I am working on a collection of classes use...\n",
       "5          <p>I am working on a collection of classes use...\n",
       "6          <p>I've been writing a few web services for a ...\n",
       "6          <p>I've been writing a few web services for a ...\n",
       "7          <p>I wonder how you guys manage deployment of ...\n",
       "7          <p>I wonder how you guys manage deployment of ...\n",
       "7          <p>I wonder how you guys manage deployment of ...\n",
       "7          <p>I wonder how you guys manage deployment of ...\n",
       "8          <p>I would like the version property of my app...\n",
       "8          <p>I would like the version property of my app...\n",
       "                                 ...                        \n",
       "1264204    <p>I have the following code, works perfectly,...\n",
       "1264205    <p>I've taken AndrÃ¡s KovÃ¡cs's <a href=\"https...\n",
       "1264205    <p>I've taken AndrÃ¡s KovÃ¡cs's <a href=\"https...\n",
       "1264205    <p>I've taken AndrÃ¡s KovÃ¡cs's <a href=\"https...\n",
       "1264205    <p>I've taken AndrÃ¡s KovÃ¡cs's <a href=\"https...\n",
       "1264205    <p>I've taken AndrÃ¡s KovÃ¡cs's <a href=\"https...\n",
       "1264206    <p>When I close my application by tapping on h...\n",
       "1264206    <p>When I close my application by tapping on h...\n",
       "1264206    <p>When I close my application by tapping on h...\n",
       "1264207    <p>Let's say I have two entities:</p>\\n\\n<pre>...\n",
       "1264208    <p>I'm trying to detect the \"flash out of date...\n",
       "1264208    <p>I'm trying to detect the \"flash out of date...\n",
       "1264208    <p>I'm trying to detect the \"flash out of date...\n",
       "1264209    <p>I am trying to assign a Product model for s...\n",
       "1264209    <p>I am trying to assign a Product model for s...\n",
       "1264209    <p>I am trying to assign a Product model for s...\n",
       "1264209    <p>I am trying to assign a Product model for s...\n",
       "1264210    <p>I need to extend a shell script (bash). As ...\n",
       "1264210    <p>I need to extend a shell script (bash). As ...\n",
       "1264210    <p>I need to extend a shell script (bash). As ...\n",
       "1264211    <p>I am building a custom MVC project and I ha...\n",
       "1264211    <p>I am building a custom MVC project and I ha...\n",
       "1264212    <p>The API docs show that you should be able t...\n",
       "1264213    <p>Under minifyEnabled I changed from false to...\n",
       "1264213    <p>Under minifyEnabled I changed from false to...\n",
       "1264214    <p>I have input which I use to filter my array...\n",
       "1264214    <p>I have input which I use to filter my array...\n",
       "1264215    <p>I'm running a mocha test and I noticed my c...\n",
       "1264215    <p>I'm running a mocha test and I noticed my c...\n",
       "1264215    <p>I'm running a mocha test and I noticed my c...\n",
       "Name: Body, Length: 3750994, dtype: object"
      ]
     },
     "execution_count": 5,
     "metadata": {},
     "output_type": "execute_result"
    }
   ],
   "source": [
    "total['Body']"
   ]
  },
  {
   "cell_type": "code",
   "execution_count": 6,
   "metadata": {},
   "outputs": [],
   "source": [
    "from collections import Counter\n",
    "import numpy as np \n",
    "import string\n",
    "import re\n",
    "\n",
    "def clean_text(text):\n",
    "    global EMPTY\n",
    "    EMPTY = ''\n",
    "    \n",
    "    if not isinstance(text, str): \n",
    "        return text\n",
    "    text = re.sub('<pre><code>.*?</code></pre>', EMPTY, text)\n",
    "\n",
    "    def replace_link(match):\n",
    "        return EMPTY if re.match('[a-z]+://', match.group(1)) else match.group(1)\n",
    "    \n",
    "    text = re.sub('<a[^>]+>(.*)</a>', replace_link, text)\n",
    "    return re.sub('<[^>]+>', EMPTY, text)"
   ]
  },
  {
   "cell_type": "code",
   "execution_count": 7,
   "metadata": {},
   "outputs": [],
   "source": [
    "total['Text'] = total['Body'].apply(clean_text).str.lower()\n",
    "total.Text = total.Text.apply(lambda x: x.replace('\"','').replace(\"\\n\",\"\").replace(\"\\t\",\"\"))"
   ]
  },
  {
   "cell_type": "code",
   "execution_count": 8,
   "metadata": {},
   "outputs": [
    {
     "data": {
      "text/html": [
       "<div>\n",
       "<style scoped>\n",
       "    .dataframe tbody tr th:only-of-type {\n",
       "        vertical-align: middle;\n",
       "    }\n",
       "\n",
       "    .dataframe tbody tr th {\n",
       "        vertical-align: top;\n",
       "    }\n",
       "\n",
       "    .dataframe thead th {\n",
       "        text-align: right;\n",
       "    }\n",
       "</style>\n",
       "<table border=\"1\" class=\"dataframe\">\n",
       "  <thead>\n",
       "    <tr style=\"text-align: right;\">\n",
       "      <th></th>\n",
       "      <th>Id</th>\n",
       "      <th>OwnerUserId</th>\n",
       "      <th>CreationDate</th>\n",
       "      <th>ClosedDate</th>\n",
       "      <th>Score</th>\n",
       "      <th>Title</th>\n",
       "      <th>Body</th>\n",
       "      <th>Tag</th>\n",
       "      <th>Text</th>\n",
       "    </tr>\n",
       "  </thead>\n",
       "  <tbody>\n",
       "    <tr>\n",
       "      <th>0</th>\n",
       "      <td>80</td>\n",
       "      <td>26.0</td>\n",
       "      <td>2008-08-01T13:57:07Z</td>\n",
       "      <td>NaN</td>\n",
       "      <td>26</td>\n",
       "      <td>SQLStatement.execute() - multiple queries in o...</td>\n",
       "      <td>&lt;p&gt;I've written a database generation script i...</td>\n",
       "      <td>flex</td>\n",
       "      <td>i've written a database generation script in s...</td>\n",
       "    </tr>\n",
       "    <tr>\n",
       "      <th>0</th>\n",
       "      <td>80</td>\n",
       "      <td>26.0</td>\n",
       "      <td>2008-08-01T13:57:07Z</td>\n",
       "      <td>NaN</td>\n",
       "      <td>26</td>\n",
       "      <td>SQLStatement.execute() - multiple queries in o...</td>\n",
       "      <td>&lt;p&gt;I've written a database generation script i...</td>\n",
       "      <td>actionscript-3</td>\n",
       "      <td>i've written a database generation script in s...</td>\n",
       "    </tr>\n",
       "    <tr>\n",
       "      <th>0</th>\n",
       "      <td>80</td>\n",
       "      <td>26.0</td>\n",
       "      <td>2008-08-01T13:57:07Z</td>\n",
       "      <td>NaN</td>\n",
       "      <td>26</td>\n",
       "      <td>SQLStatement.execute() - multiple queries in o...</td>\n",
       "      <td>&lt;p&gt;I've written a database generation script i...</td>\n",
       "      <td>air</td>\n",
       "      <td>i've written a database generation script in s...</td>\n",
       "    </tr>\n",
       "    <tr>\n",
       "      <th>1</th>\n",
       "      <td>90</td>\n",
       "      <td>58.0</td>\n",
       "      <td>2008-08-01T14:41:24Z</td>\n",
       "      <td>2012-12-26T03:45:49Z</td>\n",
       "      <td>144</td>\n",
       "      <td>Good branching and merging tutorials for Torto...</td>\n",
       "      <td>&lt;p&gt;Are there any really good tutorials explain...</td>\n",
       "      <td>svn</td>\n",
       "      <td>are there any really good tutorials explaining...</td>\n",
       "    </tr>\n",
       "    <tr>\n",
       "      <th>1</th>\n",
       "      <td>90</td>\n",
       "      <td>58.0</td>\n",
       "      <td>2008-08-01T14:41:24Z</td>\n",
       "      <td>2012-12-26T03:45:49Z</td>\n",
       "      <td>144</td>\n",
       "      <td>Good branching and merging tutorials for Torto...</td>\n",
       "      <td>&lt;p&gt;Are there any really good tutorials explain...</td>\n",
       "      <td>tortoisesvn</td>\n",
       "      <td>are there any really good tutorials explaining...</td>\n",
       "    </tr>\n",
       "  </tbody>\n",
       "</table>\n",
       "</div>"
      ],
      "text/plain": [
       "   Id  OwnerUserId          CreationDate            ClosedDate  Score  \\\n",
       "0  80         26.0  2008-08-01T13:57:07Z                   NaN     26   \n",
       "0  80         26.0  2008-08-01T13:57:07Z                   NaN     26   \n",
       "0  80         26.0  2008-08-01T13:57:07Z                   NaN     26   \n",
       "1  90         58.0  2008-08-01T14:41:24Z  2012-12-26T03:45:49Z    144   \n",
       "1  90         58.0  2008-08-01T14:41:24Z  2012-12-26T03:45:49Z    144   \n",
       "\n",
       "                                               Title  \\\n",
       "0  SQLStatement.execute() - multiple queries in o...   \n",
       "0  SQLStatement.execute() - multiple queries in o...   \n",
       "0  SQLStatement.execute() - multiple queries in o...   \n",
       "1  Good branching and merging tutorials for Torto...   \n",
       "1  Good branching and merging tutorials for Torto...   \n",
       "\n",
       "                                                Body             Tag  \\\n",
       "0  <p>I've written a database generation script i...            flex   \n",
       "0  <p>I've written a database generation script i...  actionscript-3   \n",
       "0  <p>I've written a database generation script i...             air   \n",
       "1  <p>Are there any really good tutorials explain...             svn   \n",
       "1  <p>Are there any really good tutorials explain...     tortoisesvn   \n",
       "\n",
       "                                                Text  \n",
       "0  i've written a database generation script in s...  \n",
       "0  i've written a database generation script in s...  \n",
       "0  i've written a database generation script in s...  \n",
       "1  are there any really good tutorials explaining...  \n",
       "1  are there any really good tutorials explaining...  "
      ]
     },
     "execution_count": 8,
     "metadata": {},
     "output_type": "execute_result"
    }
   ],
   "source": [
    "total.head()"
   ]
  },
  {
   "cell_type": "code",
   "execution_count": 9,
   "metadata": {},
   "outputs": [
    {
     "data": {
      "text/plain": [
       "37034"
      ]
     },
     "execution_count": 9,
     "metadata": {},
     "output_type": "execute_result"
    }
   ],
   "source": [
    "total['Tag'].nunique()"
   ]
  },
  {
   "cell_type": "code",
   "execution_count": 10,
   "metadata": {},
   "outputs": [],
   "source": [
    "def plot_tags(tagCount):\n",
    "    \n",
    "    x,y = zip(*tagCount)\n",
    "\n",
    "    colormap = plt.cm.gist_ncar #nipy_spectral, Set1,Paired  \n",
    "    colors = [colormap(i) for i in np.linspace(0, 0.8,50)]   \n",
    "\n",
    "    area = [i/4000 for i in list(y)]   # 0 to 15 point radiuses\n",
    "    plt.figure(figsize=(10,6))\n",
    "    plt.ylabel(\"Number of question associations\")\n",
    "    for i in range(len(y)):\n",
    "        plt.plot(i,y[i], marker='o', linestyle='',ms=area[i],label=x[i])\n",
    "\n",
    "    plt.legend(numpoints=1)\n",
    "    plt.show()"
   ]
  },
  {
   "cell_type": "code",
   "execution_count": 11,
   "metadata": {},
   "outputs": [
    {
     "name": "stdout",
     "output_type": "stream",
     "text": [
      "[('javascript', 124155), ('java', 115212), ('c#', 101186), ('php', 98808), ('android', 90659), ('jquery', 78542), ('python', 64601), ('html', 58976), ('c++', 47591), ('ios', 47009)]\n"
     ]
    },
    {
     "data": {
      "text/plain": [
       "<Figure size 1000x600 with 1 Axes>"
      ]
     },
     "metadata": {},
     "output_type": "display_data"
    }
   ],
   "source": [
    "import collections\n",
    "import matplotlib.pyplot as plt\n",
    "tagCount =  collections.Counter(list(total['Tag'])).most_common(10)\n",
    "print(tagCount)\n",
    "plot_tags(tagCount)"
   ]
  },
  {
   "cell_type": "code",
   "execution_count": null,
   "metadata": {},
   "outputs": [],
   "source": []
  }
 ],
 "metadata": {
  "kernelspec": {
   "display_name": "Python 3",
   "language": "python",
   "name": "python3"
  },
  "language_info": {
   "codemirror_mode": {
    "name": "ipython",
    "version": 3
   },
   "file_extension": ".py",
   "mimetype": "text/x-python",
   "name": "python",
   "nbconvert_exporter": "python",
   "pygments_lexer": "ipython3",
   "version": "3.7.0"
  }
 },
 "nbformat": 4,
 "nbformat_minor": 2
}
